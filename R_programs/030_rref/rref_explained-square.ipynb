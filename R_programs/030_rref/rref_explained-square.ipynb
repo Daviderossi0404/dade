{
 "cells": [
  {
   "cell_type": "markdown",
   "metadata": {
    "slideshow": {
     "slide_type": "slide"
    }
   },
   "source": [
    "# Reduced Row Echelon Form explained\n",
    "- Description of the `scale` variable and its role in the computation of the determinant\n",
    "- Implementation of the _elementary row operations_ on matrices\n",
    " - row_spap\n",
    " - scalar_multiply\n",
    " - row_combine\n",
    "- A working example of transformation of a matrix in _rref_ with a sequence of elementary row operations"
   ]
  },
  {
   "cell_type": "markdown",
   "metadata": {
    "slideshow": {
     "slide_type": "slide"
    }
   },
   "source": [
    "## Use of the `scale` variable\n",
    "Let's consider a _non-singular squared_ matrix `m`. Let's call: \n",
    "- $ row\\_swap(m, i, r)$ the result of row swapping of $m$, for any pair of rows $i,r$\n",
    "- $ scalar\\_multiply(m, r, alpha)$ the result of scalar multiplication for any row $r$ and real not null value $alpha$\n",
    "- $rref(m)$ the transformation of $m$ in reduced row echelon form\n",
    "\n",
    "The following equalities hold:\n",
    "- $det(m) = - det(row\\_swap(m, i, r))$\n",
    "- $det(m) = det(scalar\\_multiply(m,r,alpha) / alpha$\n",
    "- $det(rref(m)) = 1$"
   ]
  },
  {
   "cell_type": "markdown",
   "metadata": {
    "slideshow": {
     "slide_type": "slide"
    }
   },
   "source": [
    "### Use of the `scale` variable (continued)\n",
    "The implementations shown hereafter \n",
    "- change the sign of `scale` for every use of `row_swap` \n",
    "- divide the `scale` by `alpha` for every use of `scalar_multiply` \n",
    "- let's call the final value $scale(rref(m))$, \n",
    "- remember that the $rref$ of a squared matrix is the _identity_\n",
    "therefore:\n",
    "\n",
    "$det(m) = det(rref(m)) * scale(rref(m)) = 1 * scale(rref(m))$"
   ]
  },
  {
   "cell_type": "markdown",
   "metadata": {
    "slideshow": {
     "slide_type": "slide"
    }
   },
   "source": [
    "## Implementation of the elementary row operations on matrices\n",
    "### Row swap\n",
    "return matrix `m` with rows `i` and `j` swapped "
   ]
  },
  {
   "cell_type": "code",
   "execution_count": 1,
   "metadata": {
    "slideshow": {
     "slide_type": "fragment"
    },
    "vscode": {
     "languageId": "r"
    }
   },
   "outputs": [],
   "source": [
    "row_swap <- function(m, i, j){\n",
    "  if (i > nrow(m) | j > nrow(m)){\n",
    "    return(NULL)\n",
    "  }\n",
    "  temp <- m[i,]\n",
    "  m[i,] <- m[j,]\n",
    "  m[j,] <- temp\n",
    "  scale <<- -scale # update the global variable using <<-\n",
    "  return(m)\n",
    "} # row_swap: end"
   ]
  },
  {
   "cell_type": "markdown",
   "metadata": {
    "slideshow": {
     "slide_type": "slide"
    }
   },
   "source": [
    "## Implementation of the elementary row operations on matrices\n",
    "### Scalar multiplication\n",
    "return `m` with row `i` multiplied by `alpha`"
   ]
  },
  {
   "cell_type": "code",
   "execution_count": 2,
   "metadata": {
    "slideshow": {
     "slide_type": "fragment"
    },
    "vscode": {
     "languageId": "r"
    }
   },
   "outputs": [],
   "source": [
    "scalar_multiply <- function(m, i, alpha){\n",
    "  if (i > nrow(m)){\n",
    "    return(NULL)\n",
    "  }\n",
    "  m[i,] <- m[i,] * alpha\n",
    "  scale <<- scale / alpha # update the global variable using <<-\n",
    "  return(m)\n",
    "} # scalar_multiply: end"
   ]
  },
  {
   "cell_type": "markdown",
   "metadata": {
    "slideshow": {
     "slide_type": "slide"
    }
   },
   "source": [
    "## Implementation of the elementary row operations on matrices\n",
    "### Row combination\n",
    "return `m` with row `j` multiplied by `alpha` \n",
    "added to row `i`                      \n",
    "\n"
   ]
  },
  {
   "cell_type": "code",
   "execution_count": 3,
   "metadata": {
    "slideshow": {
     "slide_type": "fragment"
    },
    "vscode": {
     "languageId": "r"
    }
   },
   "outputs": [],
   "source": [
    "row_combine <- function(m, i, j, alpha){\n",
    "  if (i > nrow(m) | j > nrow(m)){\n",
    "    return(NULL)\n",
    "  }\n",
    "  m[i,] <- m[i,] + m[j,] * alpha\n",
    "  return(m)\n",
    "} # row_combination: end"
   ]
  },
  {
   "cell_type": "markdown",
   "metadata": {
    "slideshow": {
     "slide_type": "slide"
    }
   },
   "source": [
    "## Service procedure\n",
    "### Find next pivot\n",
    "find next pivot in the portion of `m` starting from `start_row`, start_col  Use:\n",
    "- `r`: row index\n",
    "- `pivot`: column index\n",
    "Algorithm\n",
    "- **if** `start_row` or `start_col` are out of matrix **return** null\n",
    "- **repeat** varying `pivot` for all columns starting from `start_col`\n",
    "  - **repeat** varying `r` for all rows starting from `start_row`\n",
    "    - **if** element `r`, `pivot` of `m` is non zero \n",
    "      the `pivot` is found, **return** its indexes `r` and `pivot`\n",
    "- if we arrive here it means that the portion of matrix\n",
    "  is all zero and there is no pivot, then **return** null"
   ]
  },
  {
   "cell_type": "code",
   "execution_count": 4,
   "metadata": {
    "slideshow": {
     "slide_type": "subslide"
    },
    "vscode": {
     "languageId": "r"
    }
   },
   "outputs": [],
   "source": [
    "find_next_pivot <- function(m, start_row, start_col){\n",
    "  norow <- nrow(m)\n",
    "  nocol <- ncol(m)\n",
    "  if (start_row > norow | start_col > nocol) {\n",
    "    return(NULL)\n",
    "  }\n",
    "  for (pivot in start_col:nocol){\n",
    "    for (r in start_row:norow){\n",
    "      if (m[r,pivot] != 0){\n",
    "        return(list(row=r, pivot=pivot))\n",
    "      } # if (m[i,pivot] != 0)\n",
    "    } #for (pivot in start_col:nocol)\n",
    "  } # for (i in start_row:norow)\n",
    "  return(NULL)\n",
    "} # find_next_pivot: end"
   ]
  },
  {
   "cell_type": "markdown",
   "metadata": {
    "slideshow": {
     "slide_type": "slide"
    }
   },
   "source": [
    "## Working example\n",
    "- The variable `scale` is manipulated inside the functions `row_swap` and `scalar_multiply`, but it must _survive_ to the different calls of the functions therefore:\n",
    "    - it must be initialized at the _top level_ (i.e. out of the functions), we say that it is used as a _global variable_, it will be initialized to 1, since it will be updated by multiplications\n",
    "    - inside the functions it will be updated with the `<<-` operator, meaning that the update will operate on the global variable, and not on a new variable local to the function\n",
    "    \n",
    "### Initialization\n",
    "- Initialize to 1 the variable `scale`\n",
    "- Prepare the matrix `m`"
   ]
  },
  {
   "cell_type": "code",
   "execution_count": 5,
   "metadata": {
    "slideshow": {
     "slide_type": "subslide"
    },
    "vscode": {
     "languageId": "r"
    }
   },
   "outputs": [
    {
     "name": "stdout",
     "output_type": "stream",
     "text": [
      "     [,1] [,2] [,3] [,4]\n",
      "[1,]    0   20    0   40\n",
      "[2,]   20    0   60    0\n",
      "[3,]    0   30    0    0\n",
      "[4,]   60  -60   60    0\n"
     ]
    }
   ],
   "source": [
    "scale <- 1\n",
    "m0 <- matrix(data =            # save the original matrix\n",
    "              c(0,20,0,40,20,0,60,0,0,30,0,0,60,-60,60,0)\n",
    "            , nrow = 4, byrow = TRUE\n",
    "           )\n",
    "m <- m0\n",
    "print(m)"
   ]
  },
  {
   "cell_type": "markdown",
   "metadata": {
    "slideshow": {
     "slide_type": "slide"
    }
   },
   "source": [
    "### a) Find pivot, starting from row 1 and col 1"
   ]
  },
  {
   "cell_type": "code",
   "execution_count": 6,
   "metadata": {
    "scrolled": true,
    "slideshow": {
     "slide_type": "fragment"
    },
    "vscode": {
     "languageId": "r"
    }
   },
   "outputs": [
    {
     "name": "stdout",
     "output_type": "stream",
     "text": [
      "List of 2\n",
      " $ row  : int 2\n",
      " $ pivot: int 1\n"
     ]
    }
   ],
   "source": [
    "r <- 1              # current row\n",
    "pivot <- 1          # look for next pivot starting from the first column\n",
    "pivot_rc <- find_next_pivot(m, r, pivot) # returns row and column of next pivot\n",
    "str(pivot_rc)"
   ]
  },
  {
   "cell_type": "markdown",
   "metadata": {
    "slideshow": {
     "slide_type": "slide"
    }
   },
   "source": [
    "### b) Row swap \n",
    "Pivot row (2) and current row (1) are swapped, to put the row with pivot in the current row"
   ]
  },
  {
   "cell_type": "code",
   "execution_count": 7,
   "metadata": {
    "slideshow": {
     "slide_type": "fragment"
    },
    "vscode": {
     "languageId": "r"
    }
   },
   "outputs": [
    {
     "name": "stdout",
     "output_type": "stream",
     "text": [
      "     [,1] [,2] [,3] [,4]\n",
      "[1,]   20    0   60    0\n",
      "[2,]    0   20    0   40\n",
      "[3,]    0   30    0    0\n",
      "[4,]   60  -60   60    0\n",
      "[1] -1\n"
     ]
    }
   ],
   "source": [
    "i <- pivot_rc$row\n",
    "pivot <- pivot_rc$pivot  # update pivot column\n",
    "if (i != r){ # row swap to put pivot in row r\n",
    "    m <- row_swap(m, i, r)\n",
    "}\n",
    "print(m)\n",
    "print(scale)"
   ]
  },
  {
   "cell_type": "markdown",
   "metadata": {
    "slideshow": {
     "slide_type": "slide"
    }
   },
   "source": [
    "### c) Scalar multiplication\n",
    "current row is multiplied by the inverse of the pivot of the current row"
   ]
  },
  {
   "cell_type": "code",
   "execution_count": 8,
   "metadata": {
    "scrolled": false,
    "slideshow": {
     "slide_type": "fragment"
    },
    "vscode": {
     "languageId": "r"
    }
   },
   "outputs": [
    {
     "name": "stdout",
     "output_type": "stream",
     "text": [
      "     [,1] [,2] [,3] [,4]\n",
      "[1,]    1    0    3    0\n",
      "[2,]    0   20    0   40\n",
      "[3,]    0   30    0    0\n",
      "[4,]   60  -60   60    0\n",
      "[1] -20\n"
     ]
    }
   ],
   "source": [
    "m <- scalar_multiply(m, r, 1/m[r, pivot])\n",
    "print(m)\n",
    "print(scale)"
   ]
  },
  {
   "cell_type": "markdown",
   "metadata": {
    "slideshow": {
     "slide_type": "slide"
    }
   },
   "source": [
    "### d) Linear combination\n",
    "The row(s) (other than the current one) with a non-zero in the pivot column (target) are linearly combined with the current row in order to have zero in the pivot column.\n",
    "\n",
    "In this case, rows 1 and 4 are linearly combined, the combination factor is the opposite of the element of the target row in the pivot column "
   ]
  },
  {
   "cell_type": "code",
   "execution_count": 9,
   "metadata": {
    "slideshow": {
     "slide_type": "fragment"
    },
    "vscode": {
     "languageId": "r"
    }
   },
   "outputs": [
    {
     "name": "stdout",
     "output_type": "stream",
     "text": [
      "     [,1] [,2] [,3] [,4]\n",
      "[1,]    1    0    3    0\n",
      "[2,]    0   20    0   40\n",
      "[3,]    0   30    0    0\n",
      "[4,]    0  -60 -120    0\n"
     ]
    }
   ],
   "source": [
    "i <- 4 # besides the pivot, only row 4 is non-null in pivot column\n",
    "m <- row_combine(m, i, r, -m[i, pivot])\n",
    "print(m)"
   ]
  },
  {
   "cell_type": "markdown",
   "metadata": {
    "slideshow": {
     "slide_type": "slide"
    }
   },
   "source": [
    "### Second execution of main loop: repeat step a)\n",
    "- increment current row and tentative pivot column\n",
    "- find next pivot"
   ]
  },
  {
   "cell_type": "code",
   "execution_count": 10,
   "metadata": {
    "slideshow": {
     "slide_type": "fragment"
    },
    "vscode": {
     "languageId": "r"
    }
   },
   "outputs": [
    {
     "name": "stdout",
     "output_type": "stream",
     "text": [
      "List of 2\n",
      " $ row  : int 2\n",
      " $ pivot: int 2\n"
     ]
    }
   ],
   "source": [
    "r <- r + 1\n",
    "pivot <- pivot + 1\n",
    "pivot_rc <- find_next_pivot(m, r, pivot) # returns row and column of next pivot\n",
    "str(pivot_rc)"
   ]
  },
  {
   "cell_type": "markdown",
   "metadata": {
    "slideshow": {
     "slide_type": "slide"
    }
   },
   "source": [
    "### b) Row swap \n",
    "In this case no swap will be executed, because i is equal to r\n",
    "### c) Scalar multiplication"
   ]
  },
  {
   "cell_type": "code",
   "execution_count": 11,
   "metadata": {
    "slideshow": {
     "slide_type": "fragment"
    },
    "vscode": {
     "languageId": "r"
    }
   },
   "outputs": [
    {
     "name": "stdout",
     "output_type": "stream",
     "text": [
      "     [,1] [,2] [,3] [,4]\n",
      "[1,]    1    0    3    0\n",
      "[2,]    0    1    0    2\n",
      "[3,]    0   30    0    0\n",
      "[4,]    0  -60 -120    0\n",
      "[1] -400\n"
     ]
    }
   ],
   "source": [
    "m <- scalar_multiply(m, r, 1/m[r, pivot])\n",
    "print(m)\n",
    "print(scale)"
   ]
  },
  {
   "cell_type": "markdown",
   "metadata": {
    "slideshow": {
     "slide_type": "slide"
    }
   },
   "source": [
    "### d) Linear combination\n",
    "- Rows 3 and 4 are linearly combined with row 2 (the current)\n",
    "- Row 1 has zero in the current pivot column, and doesn't need linear combination"
   ]
  },
  {
   "cell_type": "code",
   "execution_count": 12,
   "metadata": {
    "slideshow": {
     "slide_type": "fragment"
    },
    "vscode": {
     "languageId": "r"
    }
   },
   "outputs": [
    {
     "name": "stdout",
     "output_type": "stream",
     "text": [
      "     [,1] [,2] [,3] [,4]\n",
      "[1,]    1    0    3    0\n",
      "[2,]    0    1    0    2\n",
      "[3,]    0    0    0  -60\n",
      "[4,]    0    0 -120  120\n"
     ]
    }
   ],
   "source": [
    "i <- 3 \n",
    "m <- row_combine(m, i, r, -m[i, pivot])\n",
    "i<- 4\n",
    "m <- row_combine(m, i, r, -m[i, pivot])\n",
    "print(m)"
   ]
  },
  {
   "cell_type": "markdown",
   "metadata": {
    "slideshow": {
     "slide_type": "slide"
    }
   },
   "source": [
    "### Third execution of main loop: repeat step a)\n",
    "- increment current row and tentative pivot column\n",
    "- find next pivot"
   ]
  },
  {
   "cell_type": "code",
   "execution_count": 13,
   "metadata": {
    "slideshow": {
     "slide_type": "fragment"
    },
    "vscode": {
     "languageId": "r"
    }
   },
   "outputs": [
    {
     "name": "stdout",
     "output_type": "stream",
     "text": [
      "List of 2\n",
      " $ row  : int 4\n",
      " $ pivot: int 3\n"
     ]
    }
   ],
   "source": [
    "r <- r + 1\n",
    "pivot <- pivot + 1\n",
    "pivot_rc <- find_next_pivot(m, r, pivot) # returns row and column of next pivot\n",
    "str(pivot_rc)"
   ]
  },
  {
   "cell_type": "markdown",
   "metadata": {
    "slideshow": {
     "slide_type": "slide"
    }
   },
   "source": [
    "### b) Row swap \n",
    "Rows 3 and 4 are swapped"
   ]
  },
  {
   "cell_type": "code",
   "execution_count": 14,
   "metadata": {
    "slideshow": {
     "slide_type": "fragment"
    },
    "vscode": {
     "languageId": "r"
    }
   },
   "outputs": [
    {
     "name": "stdout",
     "output_type": "stream",
     "text": [
      "     [,1] [,2] [,3] [,4]\n",
      "[1,]    1    0    3    0\n",
      "[2,]    0    1    0    2\n",
      "[3,]    0    0 -120  120\n",
      "[4,]    0    0    0  -60\n",
      "[1] 400\n"
     ]
    }
   ],
   "source": [
    "i <- pivot_rc$row\n",
    "pivot <- pivot_rc$pivot  # update pivot column\n",
    "if (i != r){ # row swap to put pivot in row r\n",
    "    m <- row_swap(m, i, r)\n",
    "}\n",
    "print(m)\n",
    "print(scale)"
   ]
  },
  {
   "cell_type": "markdown",
   "metadata": {
    "slideshow": {
     "slide_type": "slide"
    }
   },
   "source": [
    "### c) Scalar multiplication"
   ]
  },
  {
   "cell_type": "code",
   "execution_count": 15,
   "metadata": {
    "slideshow": {
     "slide_type": "fragment"
    },
    "vscode": {
     "languageId": "r"
    }
   },
   "outputs": [
    {
     "name": "stdout",
     "output_type": "stream",
     "text": [
      "     [,1] [,2] [,3] [,4]\n",
      "[1,]    1    0    3    0\n",
      "[2,]    0    1    0    2\n",
      "[3,]    0    0    1   -1\n",
      "[4,]    0    0    0  -60\n",
      "[1] -48000\n"
     ]
    }
   ],
   "source": [
    "m <- scalar_multiply(m, r, 1/m[r, pivot])\n",
    "print(m)\n",
    "print(scale)"
   ]
  },
  {
   "cell_type": "markdown",
   "metadata": {
    "slideshow": {
     "slide_type": "slide"
    }
   },
   "source": [
    "### d) Linear combination\n",
    "- Row 1 is linearly combined with row 3 (the current)\n",
    "- Rows 2 and 4 have zero in the current pivot column, and do not need linear combination"
   ]
  },
  {
   "cell_type": "code",
   "execution_count": 16,
   "metadata": {
    "slideshow": {
     "slide_type": "fragment"
    },
    "vscode": {
     "languageId": "r"
    }
   },
   "outputs": [
    {
     "name": "stdout",
     "output_type": "stream",
     "text": [
      "     [,1] [,2] [,3] [,4]\n",
      "[1,]    1    0    0    3\n",
      "[2,]    0    1    0    2\n",
      "[3,]    0    0    1   -1\n",
      "[4,]    0    0    0  -60\n"
     ]
    }
   ],
   "source": [
    "i <- 1 \n",
    "m <- row_combine(m, i, r, -m[i, pivot])\n",
    "print(m)"
   ]
  },
  {
   "cell_type": "markdown",
   "metadata": {
    "slideshow": {
     "slide_type": "slide"
    }
   },
   "source": [
    "### Fourth execution of main loop: repeat step a)\n",
    "- increment current row and tentative pivot column\n",
    "- find next pivot"
   ]
  },
  {
   "cell_type": "code",
   "execution_count": 17,
   "metadata": {
    "slideshow": {
     "slide_type": "fragment"
    },
    "vscode": {
     "languageId": "r"
    }
   },
   "outputs": [
    {
     "name": "stdout",
     "output_type": "stream",
     "text": [
      "List of 2\n",
      " $ row  : int 4\n",
      " $ pivot: int 4\n"
     ]
    }
   ],
   "source": [
    "r <- r + 1\n",
    "pivot <- pivot + 1\n",
    "pivot_rc <- find_next_pivot(m, r, pivot) # returns row and column of next pivot\n",
    "str(pivot_rc)"
   ]
  },
  {
   "cell_type": "markdown",
   "metadata": {
    "slideshow": {
     "slide_type": "slide"
    }
   },
   "source": [
    "### b) Row swap \n",
    "In this case no swap will be executed, because i is equal to r\n",
    "### c) Scalar multiplication"
   ]
  },
  {
   "cell_type": "code",
   "execution_count": 18,
   "metadata": {
    "slideshow": {
     "slide_type": "fragment"
    },
    "vscode": {
     "languageId": "r"
    }
   },
   "outputs": [
    {
     "name": "stdout",
     "output_type": "stream",
     "text": [
      "     [,1] [,2] [,3] [,4]\n",
      "[1,]    1    0    0    3\n",
      "[2,]    0    1    0    2\n",
      "[3,]    0    0    1   -1\n",
      "[4,]    0    0    0    1\n",
      "[1] 2880000\n"
     ]
    }
   ],
   "source": [
    "m <- scalar_multiply(m, r, 1/m[r, pivot])\n",
    "print(m)\n",
    "print(scale)"
   ]
  },
  {
   "cell_type": "markdown",
   "metadata": {
    "slideshow": {
     "slide_type": "slide"
    }
   },
   "source": [
    "### d) Linear combination\n",
    "- Rows 1, 2 and 3 are linearly combined with row 4 (the current)"
   ]
  },
  {
   "cell_type": "code",
   "execution_count": 19,
   "metadata": {
    "scrolled": true,
    "slideshow": {
     "slide_type": "fragment"
    },
    "vscode": {
     "languageId": "r"
    }
   },
   "outputs": [
    {
     "name": "stdout",
     "output_type": "stream",
     "text": [
      "     [,1] [,2] [,3] [,4]\n",
      "[1,]    1    0    0    0\n",
      "[2,]    0    1    0    0\n",
      "[3,]    0    0    1    0\n",
      "[4,]    0    0    0    1\n"
     ]
    }
   ],
   "source": [
    "i <- 1 \n",
    "m <- row_combine(m, i, r, -m[i, pivot])\n",
    "i <- 2\n",
    "m <- row_combine(m, i, r, -m[i, pivot])\n",
    "i <- 3 \n",
    "m <- row_combine(m, i, r, -m[i, pivot])\n",
    "print(m)"
   ]
  },
  {
   "cell_type": "markdown",
   "metadata": {
    "slideshow": {
     "slide_type": "slide"
    }
   },
   "source": [
    "#### End\n",
    "Matrix `m` is now in reduced row echelon form"
   ]
  },
  {
   "cell_type": "code",
   "execution_count": 20,
   "metadata": {
    "scrolled": true,
    "slideshow": {
     "slide_type": "fragment"
    },
    "vscode": {
     "languageId": "r"
    }
   },
   "outputs": [
    {
     "name": "stdout",
     "output_type": "stream",
     "text": [
      "     [,1] [,2] [,3] [,4]\n",
      "[1,]    1    0    0    0\n",
      "[2,]    0    1    0    0\n",
      "[3,]    0    0    1    0\n",
      "[4,]    0    0    0    1\n"
     ]
    }
   ],
   "source": [
    "print(m)"
   ]
  },
  {
   "cell_type": "code",
   "execution_count": 21,
   "metadata": {
    "slideshow": {
     "slide_type": "fragment"
    },
    "vscode": {
     "languageId": "r"
    }
   },
   "outputs": [
    {
     "name": "stdout",
     "output_type": "stream",
     "text": [
      "[1] 2880000\n"
     ]
    }
   ],
   "source": [
    "print(scale)"
   ]
  },
  {
   "cell_type": "code",
   "execution_count": 22,
   "metadata": {
    "slideshow": {
     "slide_type": "fragment"
    },
    "vscode": {
     "languageId": "r"
    }
   },
   "outputs": [
    {
     "name": "stdout",
     "output_type": "stream",
     "text": [
      "[1] 2880000\n"
     ]
    }
   ],
   "source": [
    "print(det(m0)) # det() is the standard R function for the determinant"
   ]
  }
 ],
 "metadata": {
  "celltoolbar": "Slideshow",
  "kernelspec": {
   "display_name": "R",
   "language": "R",
   "name": "ir"
  },
  "language_info": {
   "codemirror_mode": "r",
   "file_extension": ".r",
   "mimetype": "text/x-r-source",
   "name": "R",
   "pygments_lexer": "r",
   "version": "4.0.4"
  }
 },
 "nbformat": 4,
 "nbformat_minor": 5
}
